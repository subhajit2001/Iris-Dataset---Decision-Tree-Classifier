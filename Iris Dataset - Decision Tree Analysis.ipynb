{
 "cells": [
  {
   "cell_type": "markdown",
   "id": "0c81d394-8214-427c-b9f9-b067e93ee421",
   "metadata": {},
   "source": [
    "## **Prediction using Decision Tree Classification Algorithm on the Given Iris Dataset**\n",
    "#### Author - Subhajit Saha\n",
    "\n",
    "#### **Objective:**\n",
    "Create the Decision Tree classifier and visualize it graphically. The purpose is if we feed any new data to this classifier, \n",
    "it would be able to predict the right class accordingly."
   ]
  },
  {
   "cell_type": "markdown",
   "id": "1b3dec18-3652-4f93-acde-cb734c9a52ad",
   "metadata": {},
   "source": [
    "<h4><b>Importing Required Libraries</b></h4>"
   ]
  },
  {
   "cell_type": "code",
   "execution_count": 1,
   "id": "b007c341-9764-42e6-a3a0-1a852623c758",
   "metadata": {},
   "outputs": [],
   "source": [
    "import pandas as pd\n",
    "import warnings\n",
    "warnings.filterwarnings('ignore')\n",
    "import matplotlib.pyplot as plt\n",
    "import sklearn\n",
    "import numpy as np\n",
    "import seaborn as ss\n",
    "from sklearn.metrics import accuracy_score,precision_score,recall_score\n",
    "from IPython.display import Image,display\n",
    "ss.set_theme()"
   ]
  },
  {
   "cell_type": "markdown",
   "id": "42f693cf-b787-4ca4-ac62-f7a73479235b",
   "metadata": {},
   "source": [
    "<h4><b>Importing the csv file and converting into a Dataframe<b></h4>"
   ]
  },
  {
   "cell_type": "code",
   "execution_count": 2,
   "id": "32bdfeb5-9417-49d0-bf0c-8d2035bc6f8f",
   "metadata": {},
   "outputs": [
    {
     "data": {
      "text/html": [
       "<div>\n",
       "<style scoped>\n",
       "    .dataframe tbody tr th:only-of-type {\n",
       "        vertical-align: middle;\n",
       "    }\n",
       "\n",
       "    .dataframe tbody tr th {\n",
       "        vertical-align: top;\n",
       "    }\n",
       "\n",
       "    .dataframe thead th {\n",
       "        text-align: right;\n",
       "    }\n",
       "</style>\n",
       "<table border=\"1\" class=\"dataframe\">\n",
       "  <thead>\n",
       "    <tr style=\"text-align: right;\">\n",
       "      <th></th>\n",
       "      <th>Id</th>\n",
       "      <th>SepalLengthCm</th>\n",
       "      <th>SepalWidthCm</th>\n",
       "      <th>PetalLengthCm</th>\n",
       "      <th>PetalWidthCm</th>\n",
       "      <th>Species</th>\n",
       "    </tr>\n",
       "  </thead>\n",
       "  <tbody>\n",
       "    <tr>\n",
       "      <th>0</th>\n",
       "      <td>1</td>\n",
       "      <td>5.1</td>\n",
       "      <td>3.5</td>\n",
       "      <td>1.4</td>\n",
       "      <td>0.2</td>\n",
       "      <td>Iris-setosa</td>\n",
       "    </tr>\n",
       "    <tr>\n",
       "      <th>1</th>\n",
       "      <td>2</td>\n",
       "      <td>4.9</td>\n",
       "      <td>3.0</td>\n",
       "      <td>1.4</td>\n",
       "      <td>0.2</td>\n",
       "      <td>Iris-setosa</td>\n",
       "    </tr>\n",
       "    <tr>\n",
       "      <th>2</th>\n",
       "      <td>3</td>\n",
       "      <td>4.7</td>\n",
       "      <td>3.2</td>\n",
       "      <td>1.3</td>\n",
       "      <td>0.2</td>\n",
       "      <td>Iris-setosa</td>\n",
       "    </tr>\n",
       "    <tr>\n",
       "      <th>3</th>\n",
       "      <td>4</td>\n",
       "      <td>4.6</td>\n",
       "      <td>3.1</td>\n",
       "      <td>1.5</td>\n",
       "      <td>0.2</td>\n",
       "      <td>Iris-setosa</td>\n",
       "    </tr>\n",
       "    <tr>\n",
       "      <th>4</th>\n",
       "      <td>5</td>\n",
       "      <td>5.0</td>\n",
       "      <td>3.6</td>\n",
       "      <td>1.4</td>\n",
       "      <td>0.2</td>\n",
       "      <td>Iris-setosa</td>\n",
       "    </tr>\n",
       "  </tbody>\n",
       "</table>\n",
       "</div>"
      ],
      "text/plain": [
       "   Id  SepalLengthCm  SepalWidthCm  PetalLengthCm  PetalWidthCm      Species\n",
       "0   1            5.1           3.5            1.4           0.2  Iris-setosa\n",
       "1   2            4.9           3.0            1.4           0.2  Iris-setosa\n",
       "2   3            4.7           3.2            1.3           0.2  Iris-setosa\n",
       "3   4            4.6           3.1            1.5           0.2  Iris-setosa\n",
       "4   5            5.0           3.6            1.4           0.2  Iris-setosa"
      ]
     },
     "execution_count": 2,
     "metadata": {},
     "output_type": "execute_result"
    }
   ],
   "source": [
    "iris = pd.read_csv('Iris.csv')\n",
    "iris.head()"
   ]
  },
  {
   "cell_type": "markdown",
   "id": "ff35318d-87f2-446f-990e-4762d27560cb",
   "metadata": {},
   "source": [
    "<h4><b>Dropping the ID column and output the first 5 rows of the Dataframe for checking</b></h4>"
   ]
  },
  {
   "cell_type": "code",
   "execution_count": 3,
   "id": "28ec0e23-8e52-4c33-a7ff-e291feeda5b6",
   "metadata": {},
   "outputs": [
    {
     "data": {
      "text/html": [
       "<div>\n",
       "<style scoped>\n",
       "    .dataframe tbody tr th:only-of-type {\n",
       "        vertical-align: middle;\n",
       "    }\n",
       "\n",
       "    .dataframe tbody tr th {\n",
       "        vertical-align: top;\n",
       "    }\n",
       "\n",
       "    .dataframe thead th {\n",
       "        text-align: right;\n",
       "    }\n",
       "</style>\n",
       "<table border=\"1\" class=\"dataframe\">\n",
       "  <thead>\n",
       "    <tr style=\"text-align: right;\">\n",
       "      <th></th>\n",
       "      <th>SepalLengthCm</th>\n",
       "      <th>SepalWidthCm</th>\n",
       "      <th>PetalLengthCm</th>\n",
       "      <th>PetalWidthCm</th>\n",
       "      <th>Species</th>\n",
       "    </tr>\n",
       "  </thead>\n",
       "  <tbody>\n",
       "    <tr>\n",
       "      <th>145</th>\n",
       "      <td>6.7</td>\n",
       "      <td>3.0</td>\n",
       "      <td>5.2</td>\n",
       "      <td>2.3</td>\n",
       "      <td>Iris-virginica</td>\n",
       "    </tr>\n",
       "    <tr>\n",
       "      <th>146</th>\n",
       "      <td>6.3</td>\n",
       "      <td>2.5</td>\n",
       "      <td>5.0</td>\n",
       "      <td>1.9</td>\n",
       "      <td>Iris-virginica</td>\n",
       "    </tr>\n",
       "    <tr>\n",
       "      <th>147</th>\n",
       "      <td>6.5</td>\n",
       "      <td>3.0</td>\n",
       "      <td>5.2</td>\n",
       "      <td>2.0</td>\n",
       "      <td>Iris-virginica</td>\n",
       "    </tr>\n",
       "    <tr>\n",
       "      <th>148</th>\n",
       "      <td>6.2</td>\n",
       "      <td>3.4</td>\n",
       "      <td>5.4</td>\n",
       "      <td>2.3</td>\n",
       "      <td>Iris-virginica</td>\n",
       "    </tr>\n",
       "    <tr>\n",
       "      <th>149</th>\n",
       "      <td>5.9</td>\n",
       "      <td>3.0</td>\n",
       "      <td>5.1</td>\n",
       "      <td>1.8</td>\n",
       "      <td>Iris-virginica</td>\n",
       "    </tr>\n",
       "  </tbody>\n",
       "</table>\n",
       "</div>"
      ],
      "text/plain": [
       "     SepalLengthCm  SepalWidthCm  PetalLengthCm  PetalWidthCm         Species\n",
       "145            6.7           3.0            5.2           2.3  Iris-virginica\n",
       "146            6.3           2.5            5.0           1.9  Iris-virginica\n",
       "147            6.5           3.0            5.2           2.0  Iris-virginica\n",
       "148            6.2           3.4            5.4           2.3  Iris-virginica\n",
       "149            5.9           3.0            5.1           1.8  Iris-virginica"
      ]
     },
     "execution_count": 3,
     "metadata": {},
     "output_type": "execute_result"
    }
   ],
   "source": [
    "iris = iris.drop(['Id'],axis=1)\n",
    "iris.head()\n",
    "iris.tail()"
   ]
  },
  {
   "cell_type": "markdown",
   "id": "6bc7683b-af47-44df-ba75-c45449962634",
   "metadata": {},
   "source": [
    "<h4><b>Separating the Target Column and storing it as an array</b></h4>"
   ]
  },
  {
   "cell_type": "code",
   "execution_count": 4,
   "id": "c39e433c-0aca-43e8-ae98-3f4f6ecae1da",
   "metadata": {},
   "outputs": [],
   "source": [
    "y = np.array(iris['Species'])"
   ]
  },
  {
   "cell_type": "markdown",
   "id": "32c4c0e5-a179-456d-9198-8585ce64be0f",
   "metadata": {},
   "source": [
    "<h4><b>Deleting the Species column and storing the modified data into iris_modified Dataframe</b></h4>"
   ]
  },
  {
   "cell_type": "code",
   "execution_count": 5,
   "id": "857fff73-4ec7-497f-ae0c-71b6bee9b44c",
   "metadata": {},
   "outputs": [
    {
     "data": {
      "text/html": [
       "<div>\n",
       "<style scoped>\n",
       "    .dataframe tbody tr th:only-of-type {\n",
       "        vertical-align: middle;\n",
       "    }\n",
       "\n",
       "    .dataframe tbody tr th {\n",
       "        vertical-align: top;\n",
       "    }\n",
       "\n",
       "    .dataframe thead th {\n",
       "        text-align: right;\n",
       "    }\n",
       "</style>\n",
       "<table border=\"1\" class=\"dataframe\">\n",
       "  <thead>\n",
       "    <tr style=\"text-align: right;\">\n",
       "      <th></th>\n",
       "      <th>SepalLengthCm</th>\n",
       "      <th>SepalWidthCm</th>\n",
       "      <th>PetalLengthCm</th>\n",
       "      <th>PetalWidthCm</th>\n",
       "    </tr>\n",
       "  </thead>\n",
       "  <tbody>\n",
       "    <tr>\n",
       "      <th>0</th>\n",
       "      <td>5.1</td>\n",
       "      <td>3.5</td>\n",
       "      <td>1.4</td>\n",
       "      <td>0.2</td>\n",
       "    </tr>\n",
       "    <tr>\n",
       "      <th>1</th>\n",
       "      <td>4.9</td>\n",
       "      <td>3.0</td>\n",
       "      <td>1.4</td>\n",
       "      <td>0.2</td>\n",
       "    </tr>\n",
       "    <tr>\n",
       "      <th>2</th>\n",
       "      <td>4.7</td>\n",
       "      <td>3.2</td>\n",
       "      <td>1.3</td>\n",
       "      <td>0.2</td>\n",
       "    </tr>\n",
       "    <tr>\n",
       "      <th>3</th>\n",
       "      <td>4.6</td>\n",
       "      <td>3.1</td>\n",
       "      <td>1.5</td>\n",
       "      <td>0.2</td>\n",
       "    </tr>\n",
       "    <tr>\n",
       "      <th>4</th>\n",
       "      <td>5.0</td>\n",
       "      <td>3.6</td>\n",
       "      <td>1.4</td>\n",
       "      <td>0.2</td>\n",
       "    </tr>\n",
       "  </tbody>\n",
       "</table>\n",
       "</div>"
      ],
      "text/plain": [
       "   SepalLengthCm  SepalWidthCm  PetalLengthCm  PetalWidthCm\n",
       "0            5.1           3.5            1.4           0.2\n",
       "1            4.9           3.0            1.4           0.2\n",
       "2            4.7           3.2            1.3           0.2\n",
       "3            4.6           3.1            1.5           0.2\n",
       "4            5.0           3.6            1.4           0.2"
      ]
     },
     "execution_count": 5,
     "metadata": {},
     "output_type": "execute_result"
    }
   ],
   "source": [
    "iris_modified = iris.drop(['Species'],axis=1)\n",
    "iris_modified.head()"
   ]
  },
  {
   "cell_type": "markdown",
   "id": "c3aa582c-ad47-4747-b74a-07ad33cee10c",
   "metadata": {},
   "source": [
    "<h4><b>Split Dataset into Testing and Training sets</b></h4>"
   ]
  },
  {
   "cell_type": "code",
   "execution_count": 6,
   "id": "13c9e579-04ed-4ef2-9bf6-b3250db100e9",
   "metadata": {},
   "outputs": [],
   "source": [
    "from sklearn.model_selection import train_test_split\n",
    "X_train,X_test,y_train,y_test = train_test_split(iris_modified,y,random_state=22)"
   ]
  },
  {
   "cell_type": "markdown",
   "id": "973a8fe3-e988-40fa-a5a4-71b8d170d6ea",
   "metadata": {},
   "source": [
    "<h4><b>Importing and Defining the model</b></h4>"
   ]
  },
  {
   "cell_type": "code",
   "execution_count": 7,
   "id": "17a9af1b-8830-42bc-bfcc-b99a237ca158",
   "metadata": {},
   "outputs": [],
   "source": [
    "#Defining the decision tree algorithm\n",
    "from sklearn.tree import DecisionTreeClassifier\n",
    "decision_model = DecisionTreeClassifier()"
   ]
  },
  {
   "cell_type": "markdown",
   "id": "88c0eead-1d19-4c55-b15f-f12a042cb020",
   "metadata": {},
   "source": [
    "<h4><b>Fitting the Data</b></h4>"
   ]
  },
  {
   "cell_type": "code",
   "execution_count": 8,
   "id": "0a120145-42cc-46d3-8c88-9f235de4a139",
   "metadata": {},
   "outputs": [
    {
     "data": {
      "text/plain": [
       "DecisionTreeClassifier()"
      ]
     },
     "execution_count": 8,
     "metadata": {},
     "output_type": "execute_result"
    }
   ],
   "source": [
    "decision_model.fit(X_train,y_train)"
   ]
  },
  {
   "cell_type": "markdown",
   "id": "e32a6397-8186-46ee-852d-17fb8d7b47d5",
   "metadata": {},
   "source": [
    "<h4><b>Analysing the Model performance using the metrics</b></h4>"
   ]
  },
  {
   "cell_type": "code",
   "execution_count": 9,
   "id": "771b2d47-ec1a-4493-ba82-f21567894b8f",
   "metadata": {},
   "outputs": [
    {
     "name": "stdout",
     "output_type": "stream",
     "text": [
      "Accuracy score:  0.9210526315789473\n"
     ]
    }
   ],
   "source": [
    "print(\"Accuracy score: \",decision_model.score(X_test,y_test))"
   ]
  },
  {
   "cell_type": "code",
   "execution_count": 10,
   "id": "56cfb61d-3364-451b-8f86-d11d3e417608",
   "metadata": {},
   "outputs": [],
   "source": [
    "y_pred = decision_model.predict(X_test)"
   ]
  },
  {
   "cell_type": "code",
   "execution_count": 11,
   "id": "16d26be3-4c0c-4a25-9b8c-b8b7cf470e46",
   "metadata": {},
   "outputs": [
    {
     "name": "stdout",
     "output_type": "stream",
     "text": [
      "Precision Score: 0.9210526315789473\n"
     ]
    }
   ],
   "source": [
    "from sklearn.metrics import precision_score\n",
    "print(\"Precision Score:\",precision_score(y_test,y_pred\n",
    "                                         ,average=\"micro\"))"
   ]
  },
  {
   "cell_type": "code",
   "execution_count": 12,
   "id": "c0a6ebfa-06c6-4bae-bbb8-66bd1f022da2",
   "metadata": {},
   "outputs": [
    {
     "name": "stdout",
     "output_type": "stream",
     "text": [
      "Recall score: 0.9210526315789473\n"
     ]
    }
   ],
   "source": [
    "from sklearn.metrics import recall_score\n",
    "print(\"Recall score:\",recall_score(y_test,y_pred,\n",
    "                                  average=\"micro\"))"
   ]
  },
  {
   "cell_type": "markdown",
   "id": "e3ee7e01-db0b-4355-b4d7-b2868bb4cc0b",
   "metadata": {},
   "source": [
    "<h4><b>Finding out the Decision Tree on which the model operates</b></h4>"
   ]
  },
  {
   "cell_type": "code",
   "execution_count": 13,
   "id": "58ca4656-1d91-4df8-bbf9-cc04f9aa83ff",
   "metadata": {},
   "outputs": [],
   "source": [
    "from sklearn.tree import export_graphviz\n",
    "features = ['SepalLengthCm','PetalLengthCm',\n",
    "           'SepalWidthCm','PetalWidthCm']\n",
    "dot_file = export_graphviz(decision_model,feature_names=features)"
   ]
  },
  {
   "cell_type": "code",
   "execution_count": 14,
   "id": "35e56f81-dd32-4ed9-abbf-784ef5e91ba7",
   "metadata": {},
   "outputs": [
    {
     "data": {
      "text/plain": [
       "'tree.png'"
      ]
     },
     "metadata": {},
     "output_type": "display_data"
    }
   ],
   "source": [
    "import graphviz\n",
    "graph = graphviz.Source(dot_file)\n",
    "img = graph.render(filename='tree',format='png',cleanup=True)\n",
    "display(img)"
   ]
  },
  {
   "cell_type": "code",
   "execution_count": 15,
   "id": "49c8f30a-9712-4432-9b58-991d9f59d532",
   "metadata": {},
   "outputs": [
    {
     "data": {
      "image/png": "[encoded data removed]",
      "text/plain": [
       "<IPython.core.display.Image object>"
      ]
     },
     "execution_count": 15,
     "metadata": {},
     "output_type": "execute_result"
    }
   ],
   "source": [
    "Image(filename=\"tree.png\")"
   ]
  },
  {
   "cell_type": "markdown",
   "id": "c7c83356-62fd-4190-8121-f331fb6c5660",
   "metadata": {},
   "source": [
    "<h4><b>Analysing my model performance using K-Fold Cross validation</b></h4>\n",
    "<h5>Using the Gini Score and Entropy Criterion Both</h5>"
   ]
  },
  {
   "cell_type": "code",
   "execution_count": 16,
   "id": "be112eb7-405c-4b75-9031-6c5bd753b5ca",
   "metadata": {},
   "outputs": [],
   "source": [
    "from sklearn.model_selection import KFold\n",
    "kf = KFold(n_splits = 5,shuffle=True)"
   ]
  },
  {
   "cell_type": "code",
   "execution_count": 17,
   "id": "2adb3765-a686-414e-a1ab-ef598a4a1013",
   "metadata": {},
   "outputs": [],
   "source": [
    "X = iris_modified[['SepalLengthCm','SepalWidthCm','PetalLengthCm','PetalWidthCm']].values"
   ]
  },
  {
   "cell_type": "code",
   "execution_count": 18,
   "id": "0a73f1bf-3011-4a92-9216-273f95a4ff28",
   "metadata": {},
   "outputs": [
    {
     "name": "stdout",
     "output_type": "stream",
     "text": [
      "Decision Tree - gini\n",
      "accuracy:  0.9666666666666666\n",
      "precision:  0.9666666666666666\n",
      "recall:  0.9666666666666666\n",
      "Decision Tree - entropy\n",
      "accuracy:  0.9466666666666667\n",
      "precision:  0.9466666666666667\n",
      "recall:  0.9466666666666667\n"
     ]
    }
   ],
   "source": [
    "for criterion in ['gini','entropy']:\n",
    "    print(\"Decision Tree - {}\".format(criterion))\n",
    "    accuracy = []\n",
    "    precision = []\n",
    "    recall = []\n",
    "    for train_index,test_index in kf.split(iris_modified):\n",
    "        X_train,X_test = X[train_index],X[test_index]\n",
    "        y_train,y_test = y[train_index],y[test_index]\n",
    "        \n",
    "        dt = DecisionTreeClassifier(criterion=criterion)\n",
    "        dt.fit(X_train,y_train)\n",
    "        \n",
    "        y_pred = dt.predict(X_test)\n",
    "        \n",
    "        accuracy.append(accuracy_score(y_test,y_pred))\n",
    "        precision.append(precision_score(y_test,y_pred,average=\"micro\"))\n",
    "        recall.append(recall_score(y_test,y_pred,average=\"micro\"))\n",
    "    print(\"accuracy: \",np.mean(accuracy))\n",
    "    print(\"precision: \",np.mean(precision))\n",
    "    print(\"recall: \",np.mean(recall))"
   ]
  },
  {
   "cell_type": "markdown",
   "id": "abab8efb-a65a-41a8-b27b-9bc57197cbd8",
   "metadata": {},
   "source": [
    "<h4><b>Testing my model with dummy input data and analysing whether it's able to predict the class or not</b></h4>"
   ]
  },
  {
   "cell_type": "markdown",
   "id": "df6aeaa0-c169-4d30-83e0-939cf3302662",
   "metadata": {},
   "source": [
    "('SepalLengthCm','SepalWidthCm','PetalLengthCm','PetalWidthCm') : (5.6,2.8,1.7,0.1) & (5.6,2.8,4.8,1.8)"
   ]
  },
  {
   "cell_type": "code",
   "execution_count": 19,
   "id": "e36dbe13-b565-41b1-a888-4dadae0e6e01",
   "metadata": {},
   "outputs": [
    {
     "name": "stdout",
     "output_type": "stream",
     "text": [
      "['Iris-setosa']\n"
     ]
    }
   ],
   "source": [
    "print(dt.predict([[5.6,2.8,1.7,0.1]]))"
   ]
  },
  {
   "cell_type": "code",
   "execution_count": 20,
   "id": "9fd83cab-5d2b-45bc-84d9-93faa90c35a3",
   "metadata": {},
   "outputs": [
    {
     "name": "stdout",
     "output_type": "stream",
     "text": [
      "['Iris-virginica']\n"
     ]
    }
   ],
   "source": [
    "print(dt.predict([[5.6,2.8,4.8,1.8]]))"
   ]
  },
  {
   "cell_type": "markdown",
   "id": "c5b87cbc-9273-43f0-9794-1bd696a140a8",
   "metadata": {},
   "source": [
    "<center><h2><b>Thank you for reading!!!Do Star the repo...</b></h2></center>"
   ]
  }
 ],
 "metadata": {
  "kernelspec": {
   "display_name": "Python 3",
   "language": "python",
   "name": "python3"
  },
  "language_info": {
   "codemirror_mode": {
    "name": "ipython",
    "version": 3
   },
   "file_extension": ".py",
   "mimetype": "text/x-python",
   "name": "python",
   "nbconvert_exporter": "python",
   "pygments_lexer": "ipython3",
   "version": "3.6.9"
  }
 },
 "nbformat": 4,
 "nbformat_minor": 5
}
